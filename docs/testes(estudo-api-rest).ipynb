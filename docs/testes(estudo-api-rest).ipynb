{
 "cells": [
  {
   "cell_type": "markdown",
   "id": "75d41a9f",
   "metadata": {},
   "source": [
    "## Testes iniciais"
   ]
  },
  {
   "cell_type": "code",
   "execution_count": null,
   "id": "a3267195",
   "metadata": {},
   "outputs": [],
   "source": [
    "import requests, webbrowser\n",
    "\n",
    "client_id = \"41evb0dgt0cbbj99br35k9u9n7q22b\"\n",
    "client_secret = \"cili9ejbar3x0uvjwyj4ux6z59z59v\"\n",
    "redirect_url = \"http://localhost:500\"\n",
    "scope = \"clips:edit\"\n",
    "response_type = \"token\"\n",
    "\n",
    "\n",
    "webbrowser.open(f\"https://id.twitch.tv/oauth2/authorize?response_type={response_type}&client_id={client_id}&redirect_uri={redirect_url}&scope={scope}\", 1)# COm isso tem que ser com algum link que me retorne o valor na url\n",
    "#http://localhost:500/#access_token=p6fj44lx4gtoipzduh8uqru96whypf&scope=clips%3Aedit&token_type=bearer\n",
    "\n",
    "token = \"p6fj44lx4gtoipzduh8uqru96whypf\"\n",
    "\n",
    "#https://github.com/gorgarp/TwitchClip/blob/main/clip.py\n",
    "#https://dev.to/viniciusenari/automating-content-creation-with-python-a-guide-to-building-a-twitch-highlights-bot-part-2-2n1b\n",
    "\n"
   ]
  },
  {
   "cell_type": "code",
   "execution_count": null,
   "id": "9e1224d2",
   "metadata": {},
   "outputs": [
    {
     "name": "stdout",
     "output_type": "stream",
     "text": [
      "http://localhost:500/\n",
      "https://www.twitch.tv/login?client_id=41evb0dgt0cbbj99br35k9u9n7q22b&redirect_params=client_id%3D41evb0dgt0cbbj99br35k9u9n7q22b%26redirect_uri%3Dhttp%253A%252F%252Flocalhost%253A500%26response_type%3Dtoken%26scope%3Dclips%253Aedit\n"
     ]
    }
   ],
   "source": [
    "a = requests.get(f\"https://id.twitch.tv/oauth2/authorize?response_type=token&client_id=41evb0dgt0cbbj99br35k9u9n7q22b&redirect_uri=http://localhost:500&scope=clips:edit\")\n",
    "b = requests.get(redirect_url)\n",
    "print(b.url)\n",
    "\n",
    "print(a.url)"
   ]
  },
  {
   "cell_type": "code",
   "execution_count": null,
   "id": "235620bd",
   "metadata": {},
   "outputs": [
    {
     "name": "stdout",
     "output_type": "stream",
     "text": [
      "{'data': [{'id': '459116718', 'login': 'ojoojao', 'display_name': 'ojoojao', 'type': '', 'broadcaster_type': 'affiliate', 'description': 'Me chamo João tenho 23 anos, sou técnico em eletrônica, \"artista\" e streamer(? Talvez?). Jogo principalmente Valorant, mas as vezes estamos explorando novos horizontes. Live toda Sexta e Sábado às 20h (as vezes no meio da semana no mesmo horario).', 'profile_image_url': 'https://static-cdn.jtvnw.net/jtv_user_pictures/c13a4be0-1fa3-4727-a070-efb995966b35-profile_image-300x300.png', 'offline_image_url': 'https://static-cdn.jtvnw.net/jtv_user_pictures/93fe4eca-50ee-4f95-b485-8e858c0096d8-channel_offline_image-1920x1080.png', 'view_count': 0, 'created_at': '2019-09-02T20:27:00Z'}]}\n"
     ]
    }
   ],
   "source": [
    "token = \"p6fj44lx4gtoipzduh8uqru96whypf\"\n",
    "\n",
    "response_id = requests.get(\"https://api.twitch.tv/helix/users\", params={'login':'ojoojao'}, headers={'Authorization': f'Bearer {token}','Client-Id': client_id})\n",
    "\n",
    "print(response_id.json())\n",
    "\n",
    "response_clip_create = requests.post('https://api.twitch.tv/helix/clips', params={'broadcaster_id':'459116718'}, headers={'Authorization': f'Bearer {token}','Client-Id': client_id})\n",
    "\n",
    "response_clip_get = requests.get('https://api.twitch.tv/helix/clips', params={'id':clip_id}, headers={'Authorization': f'Bearer {token}','Client-Id': client_id})"
   ]
  },
  {
   "cell_type": "code",
   "execution_count": null,
   "id": "f9d0223f",
   "metadata": {},
   "outputs": [],
   "source": []
  },
  {
   "cell_type": "code",
   "execution_count": null,
   "id": "a261cf56",
   "metadata": {},
   "outputs": [
    {
     "name": "stdout",
     "output_type": "stream",
     "text": [
      " * Serving Flask app '__main__'\n",
      " * Debug mode: off\n"
     ]
    },
    {
     "name": "stderr",
     "output_type": "stream",
     "text": [
      "WARNING: This is a development server. Do not use it in a production deployment. Use a production WSGI server instead.\n",
      " * Running on http://localhost:500\n",
      "Press CTRL+C to quit\n"
     ]
    }
   ],
   "source": [
    "from flask import Flask, request\n",
    "\n",
    "app = Flask(__name__)\n",
    "\n",
    "@app.route(\"/\")\n",
    "def home():\n",
    "    print(request.args.get(\"foo\"))\n",
    "\n",
    "    return f\"You can close this tab now...\"\n",
    "\n",
    "app.run(host=\"localhost\", port=500)\n"
   ]
  },
  {
   "cell_type": "code",
   "execution_count": null,
   "id": "3d12ea7a",
   "metadata": {},
   "outputs": [
    {
     "ename": "NameError",
     "evalue": "name 'a' is not defined",
     "output_type": "error",
     "traceback": [
      "\u001b[1;31m---------------------------------------------------------------------------\u001b[0m",
      "\u001b[1;31mNameError\u001b[0m                                 Traceback (most recent call last)",
      "Cell \u001b[1;32mIn[18], line 1\u001b[0m\n\u001b[1;32m----> 1\u001b[0m \u001b[38;5;28mprint\u001b[39m(\u001b[43ma\u001b[49m)\n",
      "\u001b[1;31mNameError\u001b[0m: name 'a' is not defined"
     ]
    }
   ],
   "source": [
    "print(a)"
   ]
  },
  {
   "cell_type": "markdown",
   "id": "187f0f70",
   "metadata": {},
   "source": [
    "## teste 2"
   ]
  },
  {
   "cell_type": "code",
   "execution_count": null,
   "id": "7dcae4ce",
   "metadata": {},
   "outputs": [
    {
     "name": "stdout",
     "output_type": "stream",
     "text": [
      "True\n"
     ]
    }
   ],
   "source": [
    "import requests, webbrowser\n",
    "\n",
    "client_id = \"41evb0dgt0cbbj99br35k9u9n7q22b\"\n",
    "client_secret = \"cili9ejbar3x0uvjwyj4ux6z59z59v\"\n",
    "\n",
    "redirect_url = \"http://localhost:500\"\n",
    "\n",
    "scope_clip = \"clips%3Aedit\"\n",
    "#scope_chat = \"channel%3Abot\"\n",
    "scope_chat = \"user%3Awrite%3Achat\"\n",
    "\n",
    "response_type = \"code\"\n",
    "\n",
    "oauth_url = f\"https://id.twitch.tv/oauth2/authorize?response_type={response_type}&client_id={client_id}&redirect_uri={redirect_url}&scope={scope_clip+\"%20\"+scope_chat}\"\n",
    "\n",
    "#https://id.twitch.tv/oauth2/authorize?response_type=code&client_id=41evb0dgt0cbbj99br35k9u9n7q22b&redirect_uri=http://localhost:500&scope=clips%3Aedit%20user%3Awrite%3Achat\n",
    "#https://id.twitch.tv/oauth2/authorize?response_type=code&client_id=41evb0dgt0cbbj99br35k9u9n7q22b&redirect_uri=https://ojoojao.github.io/proj-cordel&scope=clips%3Aedit%20user%3Awrite%3Achat\n",
    "\n",
    "\n",
    "\n",
    "a = webbrowser.open(oauth_url)\n",
    "print(a)"
   ]
  },
  {
   "cell_type": "code",
   "execution_count": 25,
   "id": "4aaddb0c",
   "metadata": {},
   "outputs": [
    {
     "name": "stdout",
     "output_type": "stream",
     "text": [
      " * Serving Flask app '__main__'\n",
      " * Debug mode: off\n"
     ]
    },
    {
     "name": "stderr",
     "output_type": "stream",
     "text": [
      "WARNING: This is a development server. Do not use it in a production deployment. Use a production WSGI server instead.\n",
      " * Running on http://localhost:500\n",
      "Press CTRL+C to quit\n",
      "127.0.0.1 - - [15/Apr/2025 18:03:52] \"GET /?code=5bbe9u74dgol3o9igsnu5dlb1kemo8&scope=clips:edit+user:write:chat HTTP/1.1\" 200 -\n"
     ]
    },
    {
     "name": "stdout",
     "output_type": "stream",
     "text": [
      "ImmutableMultiDict([('code', '5bbe9u74dgol3o9igsnu5dlb1kemo8'), ('scope', 'clips:edit user:write:chat')])\n"
     ]
    }
   ],
   "source": [
    "from flask import Flask, request\n",
    "\n",
    "app = Flask(__name__)\n",
    "\n",
    "@app.route(\"/\")\n",
    "def home():\n",
    "\n",
    "    global response_code\n",
    "\n",
    "    response_args = request.args\n",
    "    response_code = response_args.get(\"code\")\n",
    "    print(response_args)\n",
    "\n",
    "    return \"You can close this tab now...\"\n",
    "\n",
    "app.run(host=\"localhost\", port=500)"
   ]
  },
  {
   "cell_type": "code",
   "execution_count": null,
   "id": "f083b855",
   "metadata": {},
   "outputs": [
    {
     "data": {
      "text/plain": [
       "{'status': 400, 'message': 'Invalid authorization code'}"
      ]
     },
     "execution_count": 29,
     "metadata": {},
     "output_type": "execute_result"
    }
   ],
   "source": [
    "token_url = \"https://id.twitch.tv/oauth2/token\"\n",
    "\n",
    "headers = {'Content-Type':'application/x-www-form-urlencoded'}\n",
    "\n",
    "code = response_code\n",
    "\n",
    "data = f\"client_id={client_id}&client_secret={client_secret}&code={code}&grant_type=authorization_code&redirect_uri={redirect_url}\"\n",
    "\n",
    "response = requests.post(token_url, data, headers=headers)\n",
    "\n",
    "response.json()"
   ]
  },
  {
   "cell_type": "code",
   "execution_count": null,
   "id": "01579420",
   "metadata": {},
   "outputs": [],
   "source": [
    "data = f\"grant_type=refresh_token&refresh_token={refresh_token}&client_id={client_id}&client_secret={client_secret}\"\n",
    "\n",
    "response = requests.post(token_url, data, headers=headers)\n",
    "\n",
    "response.json()"
   ]
  },
  {
   "cell_type": "markdown",
   "id": "f5a69589",
   "metadata": {},
   "source": [
    "Ideia:\n",
    "- começar o server flask\n",
    "- abrir a url\n",
    "- fazer a autorização\n",
    "- pegar o code\n",
    "- rodar o post para pegar o token\n",
    "- salvar os dados\n",
    "\n",
    "- se necessario atualizar o token\n"
   ]
  },
  {
   "cell_type": "code",
   "execution_count": null,
   "id": "f60ca276",
   "metadata": {},
   "outputs": [],
   "source": [
    "response_id = requests.get(\"https://api.twitch.tv/helix/users\", params={'login':'ojoojao'}, headers={'Authorization': f'Bearer {token}','Client-Id': client_id})\n",
    "\n",
    "print(response_id.json())\n",
    "\n",
    "response_clip_create = requests.post('https://api.twitch.tv/helix/clips', params={'broadcaster_id':'459116718'}, headers={'Authorization': f'Bearer {token}','Client-Id': client_id})\n",
    "\n",
    "response_clip_get = requests.get('https://api.twitch.tv/helix/clips', params={'id':clip_id}, headers={'Authorization': f'Bearer {token}','Client-Id': client_id})\n",
    "\n",
    "\n",
    "data= {\n",
    "  \"broadcaster_id\": 12826,\n",
    "  \"sender_id\": 141981764,\n",
    "  \"message\": \"Hello, world! twitchdevHype\",\n",
    "  \"for_source_only\": True\n",
    "}\n",
    "\n",
    "response_chat = requests.post('https://api.twitch.tv/helix/chat/messages', headers={'Authorization': f'Bearer {token}','Client-Id': client_id, 'Content-Type': 'application/json'}, data=data)\n",
    "\n"
   ]
  },
  {
   "cell_type": "code",
   "execution_count": null,
   "id": "bfe77003",
   "metadata": {},
   "outputs": [
    {
     "data": {
      "text/plain": [
       "'/proj-cordel/'"
      ]
     },
     "execution_count": 3,
     "metadata": {},
     "output_type": "execute_result"
    }
   ],
   "source": [
    "import requests\n",
    "from requests import Response\n",
    "\n",
    "a = requests.get(\"https://ojoojao.github.io/proj-cordel\")\n",
    "reques\n",
    "Response()"
   ]
  },
  {
   "cell_type": "code",
   "execution_count": 6,
   "id": "60318be6",
   "metadata": {},
   "outputs": [
    {
     "name": "stdout",
     "output_type": "stream",
     "text": [
      " * Serving Flask app '__main__'\n",
      " * Debug mode: off\n"
     ]
    },
    {
     "name": "stderr",
     "output_type": "stream",
     "text": [
      "WARNING: This is a development server. Do not use it in a production deployment. Use a production WSGI server instead.\n",
      " * Running on http://localhost:500\n",
      "Press CTRL+C to quit\n",
      "127.0.0.1 - - [15/Apr/2025 20:42:14] \"GET /?code=mcstzxmxhxg6gd12vp5o5o53pmkpn4&scope=clips:edit+user:write:chat HTTP/1.1\" 200 -\n"
     ]
    },
    {
     "name": "stdout",
     "output_type": "stream",
     "text": [
      "ImmutableMultiDict([('code', 'mcstzxmxhxg6gd12vp5o5o53pmkpn4'), ('scope', 'clips:edit user:write:chat')])\n",
      "mcstzxmxhxg6gd12vp5o5o53pmkpn4\n"
     ]
    }
   ],
   "source": [
    "from flask import Flask, request\n",
    "\n",
    "app = Flask(__name__)\n",
    "\n",
    "@app.route(\"/\")\n",
    "def home():\n",
    "\n",
    "    global response_code\n",
    "\n",
    "    response_args = request.args\n",
    "    response_code = response_args.get(\"code\")\n",
    "    print(response_args)\n",
    "\n",
    "    return \"You can close this tab now...\"\n",
    "\n",
    "app.run(host=\"localhost\", port=500)\n",
    "\n",
    "print(response_code)"
   ]
  }
 ],
 "metadata": {
  "kernelspec": {
   "display_name": "Python 3",
   "language": "python",
   "name": "python3"
  },
  "language_info": {
   "codemirror_mode": {
    "name": "ipython",
    "version": 3
   },
   "file_extension": ".py",
   "mimetype": "text/x-python",
   "name": "python",
   "nbconvert_exporter": "python",
   "pygments_lexer": "ipython3",
   "version": "3.12.7"
  }
 },
 "nbformat": 4,
 "nbformat_minor": 5
}
