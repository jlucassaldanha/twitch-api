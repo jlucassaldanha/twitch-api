{
 "cells": [
  {
   "cell_type": "code",
   "execution_count": 2,
   "id": "eacc7f12",
   "metadata": {},
   "outputs": [
    {
     "name": "stdout",
     "output_type": "stream",
     "text": [
      "http://localhost:500/testemano\n"
     ]
    },
    {
     "name": "stderr",
     "output_type": "stream",
     "text": [
      "127.0.0.1 - - [18/Apr/2025 17:40:09] \"GET /testemano HTTP/1.1\" 200 5\n"
     ]
    }
   ],
   "source": [
    "from wsgiref.simple_server import make_server\n",
    "from wsgiref.util import request_uri\n",
    "\n",
    "class serverson():\n",
    "    def localServerApp(self, environ, start_response):\n",
    "        status = \"200 OK\"\n",
    "        headers = [(\n",
    "            \"Content-type\", \n",
    "            \"text/html; charset=utf-8\"\n",
    "            )]  \n",
    "        \n",
    "        start_response(status, headers)\n",
    "\n",
    "        self.query_url = request_uri(environ)\n",
    "\n",
    "        return ['teste'.encode()]\n",
    "\n",
    "    def openAuthorization(self):\n",
    "        self.redirect_uri = \"http://localhost:500\"\n",
    "        i = len(self.redirect_uri) - self.redirect_uri[::-1].find(\":\")\n",
    "        port = int(self.redirect_uri[i:])\n",
    "\n",
    "        _i = self.redirect_uri.find(\"//\") + 2\n",
    "        i_ = len(self.redirect_uri[_i:]) - len(str(port)) - 1\n",
    "        host = self.redirect_uri[_i:][:i_]\n",
    "\n",
    "        server = make_server(host, port, self.localServerApp)\n",
    "        # Cria o app\n",
    "\n",
    "        # Seta a flag de reuso do endereço com false\n",
    "\n",
    "        # Cria o server\n",
    "        server = make_server(\"localhost\", 500, self.localServerApp)\n",
    "\n",
    "        # Inicia um try\n",
    "\n",
    "        server.timeout = None\n",
    "        server.handle_request()\n",
    "\n",
    "        #timeout server\n",
    "        #roda uma vez e pega a request\n",
    "\n",
    "        #pega a resposta\n",
    "        r = self.query_url\n",
    "\n",
    "        print(r)\n",
    "\n",
    "\n",
    "a = serverson()\n",
    "a.openAuthorization()"
   ]
  }
 ],
 "metadata": {
  "kernelspec": {
   "display_name": "Python 3",
   "language": "python",
   "name": "python3"
  },
  "language_info": {
   "codemirror_mode": {
    "name": "ipython",
    "version": 3
   },
   "file_extension": ".py",
   "mimetype": "text/x-python",
   "name": "python",
   "nbconvert_exporter": "python",
   "pygments_lexer": "ipython3",
   "version": "3.12.7"
  }
 },
 "nbformat": 4,
 "nbformat_minor": 5
}
