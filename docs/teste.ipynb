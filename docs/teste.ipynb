{
 "cells": [
  {
   "cell_type": "code",
   "execution_count": 2,
   "id": "eacc7f12",
   "metadata": {},
   "outputs": [
    {
     "name": "stdout",
     "output_type": "stream",
     "text": [
      "http://localhost:500/testemano\n"
     ]
    },
    {
     "name": "stderr",
     "output_type": "stream",
     "text": [
      "127.0.0.1 - - [18/Apr/2025 17:40:09] \"GET /testemano HTTP/1.1\" 200 5\n"
     ]
    }
   ],
   "source": [
    "from wsgiref.simple_server import make_server\n",
    "from wsgiref.util import request_uri\n",
    "\n",
    "class serverson():\n",
    "    def localServerApp(self, environ, start_response):\n",
    "        status = \"200 OK\"\n",
    "        headers = [(\n",
    "            \"Content-type\", \n",
    "            \"text/html; charset=utf-8\"\n",
    "            )]  \n",
    "        \n",
    "        start_response(status, headers)\n",
    "\n",
    "        self.query_url = request_uri(environ)\n",
    "\n",
    "        return ['teste'.encode()]\n",
    "\n",
    "    def openAuthorization(self):\n",
    "        self.redirect_uri = \"http://localhost:500\"\n",
    "        i = len(self.redirect_uri) - self.redirect_uri[::-1].find(\":\")\n",
    "        port = int(self.redirect_uri[i:])\n",
    "\n",
    "        _i = self.redirect_uri.find(\"//\") + 2\n",
    "        i_ = len(self.redirect_uri[_i:]) - len(str(port)) - 1\n",
    "        host = self.redirect_uri[_i:][:i_]\n",
    "\n",
    "        server = make_server(host, port, self.localServerApp)\n",
    "        # Cria o app\n",
    "\n",
    "        # Seta a flag de reuso do endereço com false\n",
    "\n",
    "        # Cria o server\n",
    "        server = make_server(\"localhost\", 500, self.localServerApp)\n",
    "\n",
    "        # Inicia um try\n",
    "\n",
    "        server.timeout = None\n",
    "        server.handle_request()\n",
    "\n",
    "        #timeout server\n",
    "        #roda uma vez e pega a request\n",
    "\n",
    "        #pega a resposta\n",
    "        r = self.query_url\n",
    "\n",
    "        print(r)\n",
    "\n",
    "\n",
    "a = serverson()\n",
    "a.openAuthorization()"
   ]
  },
  {
   "cell_type": "code",
   "execution_count": 20,
   "id": "964370b2",
   "metadata": {},
   "outputs": [
    {
     "name": "stdout",
     "output_type": "stream",
     "text": [
      "50\n",
      "50\n",
      "localhost\n"
     ]
    }
   ],
   "source": [
    "uri = \"http://localhost:500\"\n",
    "i_ = len(uri) - uri[::-1].find(\":\")\n",
    "i__ = uri[i_:].find(\"/\")\n",
    "\n",
    "port = (uri[i_:][:i__])\n",
    "\n",
    "print(port)\n",
    "\n",
    "i = uri.find(\"//\") + 2 \n",
    "_i = len(uri[i:]) - len(uri[i_:]) - 1 \n",
    "host = uri[i:][:_i]\n",
    "\n",
    "print(port) \n",
    "print(host)"
   ]
  },
  {
   "cell_type": "code",
   "execution_count": 8,
   "id": "42bbb994",
   "metadata": {},
   "outputs": [
    {
     "name": "stdout",
     "output_type": "stream",
     "text": [
      "guydfd324shljdhdgd46ywyvzzzz278g443234\n",
      "ljkfdfsdlflks9043768hfhga\n",
      "https://id.twitch.tv/oauth2/authorize?response_type=code&client_id=guydfd324shljdhdgd46ywyvzzzz278g443234&redirect_uri=http://localhost:8000/oauth&scope=clips:edit%20user:write:chat\n"
     ]
    }
   ],
   "source": [
    "import requests\n",
    "import os, json\n",
    "import webbrowser\n",
    "\n",
    "from wsgiref.simple_server import make_server\n",
    "from wsgiref.util import request_uri\n",
    "\n",
    "OAUTH2_HEADERS = {'Content-Type' : 'application/x-www-form-urlencoded'}\n",
    "\n",
    "OAUTH2_URL_BASE = \"https://id.twitch.tv/oauth2\"\n",
    "\n",
    "oauth_authorize_params = \"/authorize?response_type=code&client_id={}&redirect_uri={}&scope={}\"\n",
    "\n",
    "oauth_new_token_data = \"client_id={}&client_secret={}&code={}&grant_type=authorization_code&redirect_uri={}\"\n",
    "oauth_refresh_token_data = \"grant_type=refresh_token&refresh_token={}&client_id={}&client_secret={}\"\n",
    "\n",
    "class AuthorizationCodeGrantFlow():\n",
    "    redirect_uri = \"\"\n",
    "    url = \"\"\n",
    "    client_id = \"\"\n",
    "    client_secrets = \"\"\n",
    "    query_url = \"\"\n",
    "\n",
    "    def __init__(self, credentials_json: str) -> None:\n",
    "        \"\"\"\n",
    "        Creates a :class:`AuthorizationCodeGrantFlow`.\n",
    "\n",
    "        Args:\n",
    "            credentials_json (str): The path to the credentials.json\n",
    "                file that have client information.       \n",
    "        \"\"\"\n",
    "\n",
    "        # Verify existence of the credentials file \n",
    "        # and if it exists, read the data, else, raise exception\n",
    "        if os.path.exists(credentials_json):\n",
    "            with open(credentials_json, 'r') as creds_json:\n",
    "                creds_data = json.load(creds_json)\n",
    "\n",
    "            creds_json.close()\n",
    "\n",
    "            # Verify if got the required keys in the data.\n",
    "            # Case its True save the values in the variables \n",
    "            # and construct the link to the authorization page. \n",
    "            # Case its False, raise execption\n",
    "            if (\"client_id\" in list(creds_data) and \"client_secrets\" in list(creds_data) \n",
    "                and \"scopes\" in list(creds_data) and \"redirect_uri\" in list(creds_data)):\n",
    "\n",
    "                self.client_id = creds_data[\"client_id\"]\n",
    "                self.client_secrets = creds_data[\"client_secrets\"]\n",
    "                self.scopes = creds_data[\"scopes\"]\n",
    "                self.redirect_uri = creds_data[\"redirect_uri\"]\n",
    "\n",
    "                # Cronstruct the scopes string                \n",
    "                scopes = self.scopes[0]\n",
    "                for scope in self.scopes[1:]:\n",
    "                    scopes += \"%20\" + scope\n",
    "\n",
    "                self.url = OAUTH2_URL_BASE + oauth_authorize_params.format(self.client_id, self.redirect_uri, scopes)\n",
    "\n",
    "            else:\n",
    "                raise Exception(\"Credentials file missing keys\")\n",
    "        else:\n",
    "            raise FileNotFoundError(\"Credentials file not found\")\n",
    "        \n",
    "        print(self.client_id)\n",
    "        print(self.client_secrets)\n",
    "        print(self.url)\n",
    "\n",
    "\n",
    "auth = AuthorizationCodeGrantFlow(\"credentials(exemplo).json\")\n"
   ]
  }
 ],
 "metadata": {
  "kernelspec": {
   "display_name": "Python 3",
   "language": "python",
   "name": "python3"
  },
  "language_info": {
   "codemirror_mode": {
    "name": "ipython",
    "version": 3
   },
   "file_extension": ".py",
   "mimetype": "text/x-python",
   "name": "python",
   "nbconvert_exporter": "python",
   "pygments_lexer": "ipython3",
   "version": "3.12.7"
  }
 },
 "nbformat": 4,
 "nbformat_minor": 5
}
